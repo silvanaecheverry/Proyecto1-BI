{
 "cells": [
  {
   "cell_type": "markdown",
   "id": "9ccb289e",
   "metadata": {},
   "source": [
    "# Proyecto 1 - Análitica de textos - Etapa 1 \n",
    "\n",
    "## Integrantes\n",
    "- Carlos Vargas - 202220064\n",
    "- Silvana Echeverry - 202310470\n",
    "- David Mora - 202226269"
   ]
  }
 ],
 "metadata": {
  "language_info": {
   "name": "python"
  }
 },
 "nbformat": 4,
 "nbformat_minor": 5
}
