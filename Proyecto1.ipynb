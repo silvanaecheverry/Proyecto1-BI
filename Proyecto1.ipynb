{
 "cells": [
  {
   "cell_type": "markdown",
   "id": "9ccb289e",
   "metadata": {},
   "source": [
    "# Proyecto 1 - Análitica de textos - Etapa 1 \n",
    "\n",
    "## Integrantes\n",
    "- Carlos Vargas - 202220064\n",
    "- Silvana Echeverry - 202310470\n",
    "- David Mora - 202226269"
   ]
  },
  {
   "cell_type": "markdown",
   "id": "347067fe",
   "metadata": {},
   "source": [
    "El objetivo del proyecto es construir un modelo de aprendizaje supervisado de clasificación de texto. Se espera que dado un nuevo texto de opinión, el modelo debe predecir automáticamente a cuál ODS pertenece. No es una variable binaria sino multiclase (1,3,4)"
   ]
  },
  {
   "cell_type": "markdown",
   "id": "e2514496",
   "metadata": {},
   "source": [
    "# 2. Entendimiento y preparación de los Datos"
   ]
  },
  {
   "cell_type": "markdown",
   "id": "89f9eb78",
   "metadata": {},
   "source": [
    "## Entendimiento - Carga de Datos"
   ]
  },
  {
   "cell_type": "code",
   "execution_count": 4,
   "id": "0e44c28e",
   "metadata": {},
   "outputs": [],
   "source": [
    "# Imports \n",
    "\n",
    "import pandas as pd \n",
    "import numpy as np\n",
    "import matplotlib.pyplot as plt\n",
    "import seaborn as sns\n",
    "import sklearn as sk\n",
    "from sklearn.feature_extraction.text import TfidfVectorizer\n",
    "from scipy import stats as st\n",
    "\n",
    "import nltk\n",
    "from nltk.corpus import stopwords\n",
    "from nltk.tokenize import word_tokenize\n",
    "import string\n",
    "import re, unicodedata\n",
    "\n",
    "from sklearn.feature_extraction.text import CountVectorizer\n",
    "from sklearn.feature_extraction.text import TfidfVectorizer\n",
    "from sklearn.model_selection import train_test_split\n",
    "\n",
    "from sklearn.naive_bayes import MultinomialNB\n",
    "from sklearn.metrics import classification_report, f1_score, confusion_matrix, accuracy_score\n",
    "\n",
    "from sklearn.metrics import ConfusionMatrixDisplay, confusion_matrix"
   ]
  },
  {
   "cell_type": "code",
   "execution_count": 5,
   "id": "3dbf9c36",
   "metadata": {},
   "outputs": [
    {
     "name": "stderr",
     "output_type": "stream",
     "text": [
      "[nltk_data] Error loading punkt: <urlopen error [SSL:\n",
      "[nltk_data]     CERTIFICATE_VERIFY_FAILED] certificate verify failed:\n",
      "[nltk_data]     unable to get local issuer certificate (_ssl.c:1000)>\n",
      "[nltk_data] Error loading stopwords: <urlopen error [SSL:\n",
      "[nltk_data]     CERTIFICATE_VERIFY_FAILED] certificate verify failed:\n",
      "[nltk_data]     unable to get local issuer certificate (_ssl.c:1000)>\n",
      "[nltk_data] Error loading wordnet: <urlopen error [SSL:\n",
      "[nltk_data]     CERTIFICATE_VERIFY_FAILED] certificate verify failed:\n",
      "[nltk_data]     unable to get local issuer certificate (_ssl.c:1000)>\n"
     ]
    },
    {
     "data": {
      "text/plain": [
       "False"
      ]
     },
     "execution_count": 5,
     "metadata": {},
     "output_type": "execute_result"
    }
   ],
   "source": [
    "nltk.download('punkt')\n",
    "nltk.download('stopwords')\n",
    "nltk.download('wordnet')"
   ]
  },
  {
   "cell_type": "code",
   "execution_count": 6,
   "id": "1f07dfec",
   "metadata": {},
   "outputs": [],
   "source": [
    "data = pd.read_excel('Datos_proyecto.xlsx')\n",
    "#print(data.head())\n",
    "#data.info()"
   ]
  },
  {
   "cell_type": "markdown",
   "id": "fbf36606",
   "metadata": {},
   "source": [
    "Revisar como estan distribuidos nuestros datos: \n",
    "\n",
    "1. Contar cuantos labels hay, lo cual nos confirma que tenemos, para confirmar si tenemos desbalanceo o balanceo en nuestras clases \n",
    "- 4 1025 (Calidad de vida)\n",
    "-  3 894 (salud)\n",
    "- 1 505 (educación)\n",
    "2. Ver la proporción que representa cada clase con respecto al total de los datos. \n",
    "- 4 42%\n",
    "- 3 36% \n",
    "- 1 20% menor representación\n",
    "el label 4 y 3 estan mas parejas \n",
    "\n",
    "3. Mostrar la grafica \n",
    "- con la grafica podemos ver que nuestras label tienen un leve desbalance pero consideramos que podemos seguir trabajando \n"
   ]
  },
  {
   "cell_type": "code",
   "execution_count": 7,
   "id": "1fc24250",
   "metadata": {},
   "outputs": [
    {
     "name": "stdout",
     "output_type": "stream",
     "text": [
      "labels\n",
      "4    1025\n",
      "3     894\n",
      "1     505\n",
      "Name: count, dtype: int64\n",
      "labels\n",
      "4    0.422855\n",
      "3    0.368812\n",
      "1    0.208333\n",
      "Name: proportion, dtype: float64\n"
     ]
    },
    {
     "name": "stderr",
     "output_type": "stream",
     "text": [
      "/var/folders/0g/xm2gc5sx67sds29_nv2g25n00000gn/T/ipykernel_39493/405444549.py:7: FutureWarning: \n",
      "\n",
      "Passing `palette` without assigning `hue` is deprecated and will be removed in v0.14.0. Assign the `x` variable to `hue` and set `legend=False` for the same effect.\n",
      "\n",
      "  sns.countplot(x='labels', data=data, palette=\"Set2\")\n"
     ]
    },
    {
     "data": {
      "image/png": "[encoded data removed]",
      "text/plain": [
       "<Figure size 640x480 with 1 Axes>"
      ]
     },
     "metadata": {},
     "output_type": "display_data"
    }
   ],
   "source": [
    "# Conteo de ejemplos por clase\n",
    "print(data['labels'].value_counts())\n",
    "\n",
    "# Proporción de ejemplos por clase\n",
    "print(data['labels'].value_counts(normalize=True))\n",
    "\n",
    "sns.countplot(x='labels', data=data, palette=\"Set2\")\n",
    "plt.title(\"Distribución de clases (labels)\")\n",
    "plt.show()"
   ]
  },
  {
   "cell_type": "markdown",
   "id": "7c0745a0",
   "metadata": {},
   "source": [
    "Con esto verificamos las longitudes de los textos y las palabras antes de limpiarlas. "
   ]
  },
  {
   "cell_type": "code",
   "execution_count": 8,
   "id": "e272b9a2",
   "metadata": {},
   "outputs": [
    {
     "data": {
      "text/html": [
       "<div>\n",
       "<style scoped>\n",
       "    .dataframe tbody tr th:only-of-type {\n",
       "        vertical-align: middle;\n",
       "    }\n",
       "\n",
       "    .dataframe tbody tr th {\n",
       "        vertical-align: top;\n",
       "    }\n",
       "\n",
       "    .dataframe thead th {\n",
       "        text-align: right;\n",
       "    }\n",
       "</style>\n",
       "<table border=\"1\" class=\"dataframe\">\n",
       "  <thead>\n",
       "    <tr style=\"text-align: right;\">\n",
       "      <th></th>\n",
       "      <th>textos</th>\n",
       "      <th>labels</th>\n",
       "      <th>conteo</th>\n",
       "      <th>max</th>\n",
       "      <th>min</th>\n",
       "      <th>mean</th>\n",
       "    </tr>\n",
       "  </thead>\n",
       "  <tbody>\n",
       "    <tr>\n",
       "      <th>0</th>\n",
       "      <td>\"Aprendizaje\" y \"educación\" se consideran sinó...</td>\n",
       "      <td>4</td>\n",
       "      <td>352</td>\n",
       "      <td>14</td>\n",
       "      <td>1</td>\n",
       "      <td>6.354167</td>\n",
       "    </tr>\n",
       "    <tr>\n",
       "      <th>1</th>\n",
       "      <td>Para los niños más pequeños (bebés y niños peq...</td>\n",
       "      <td>4</td>\n",
       "      <td>516</td>\n",
       "      <td>16</td>\n",
       "      <td>1</td>\n",
       "      <td>6.180556</td>\n",
       "    </tr>\n",
       "    <tr>\n",
       "      <th>2</th>\n",
       "      <td>Además, la formación de especialistas en medic...</td>\n",
       "      <td>3</td>\n",
       "      <td>659</td>\n",
       "      <td>15</td>\n",
       "      <td>1</td>\n",
       "      <td>6.096774</td>\n",
       "    </tr>\n",
       "    <tr>\n",
       "      <th>3</th>\n",
       "      <td>En los países de la OCDE se tiende a pasar de ...</td>\n",
       "      <td>4</td>\n",
       "      <td>693</td>\n",
       "      <td>18</td>\n",
       "      <td>1</td>\n",
       "      <td>5.366972</td>\n",
       "    </tr>\n",
       "    <tr>\n",
       "      <th>4</th>\n",
       "      <td>Este grupo se centró en las personas que padec...</td>\n",
       "      <td>3</td>\n",
       "      <td>608</td>\n",
       "      <td>14</td>\n",
       "      <td>0</td>\n",
       "      <td>5.410526</td>\n",
       "    </tr>\n",
       "    <tr>\n",
       "      <th>...</th>\n",
       "      <td>...</td>\n",
       "      <td>...</td>\n",
       "      <td>...</td>\n",
       "      <td>...</td>\n",
       "      <td>...</td>\n",
       "      <td>...</td>\n",
       "    </tr>\n",
       "    <tr>\n",
       "      <th>2419</th>\n",
       "      <td>La tutoría de carrera está diseñada para apoya...</td>\n",
       "      <td>4</td>\n",
       "      <td>741</td>\n",
       "      <td>16</td>\n",
       "      <td>1</td>\n",
       "      <td>5.566372</td>\n",
       "    </tr>\n",
       "    <tr>\n",
       "      <th>2420</th>\n",
       "      <td>Fuente: Ministerio de Educación. Las Tasas Int...</td>\n",
       "      <td>4</td>\n",
       "      <td>541</td>\n",
       "      <td>15</td>\n",
       "      <td>1</td>\n",
       "      <td>5.376471</td>\n",
       "    </tr>\n",
       "    <tr>\n",
       "      <th>2421</th>\n",
       "      <td>Y desde 2010, el PNUD ha sido pionero en la pu...</td>\n",
       "      <td>1</td>\n",
       "      <td>352</td>\n",
       "      <td>12</td>\n",
       "      <td>1</td>\n",
       "      <td>4.515625</td>\n",
       "    </tr>\n",
       "    <tr>\n",
       "      <th>2422</th>\n",
       "      <td>Sin embargo, estas fallas del mercado implican...</td>\n",
       "      <td>3</td>\n",
       "      <td>754</td>\n",
       "      <td>15</td>\n",
       "      <td>1</td>\n",
       "      <td>4.852713</td>\n",
       "    </tr>\n",
       "    <tr>\n",
       "      <th>2423</th>\n",
       "      <td>Aunque existen programas para convertirse espe...</td>\n",
       "      <td>4</td>\n",
       "      <td>593</td>\n",
       "      <td>25</td>\n",
       "      <td>1</td>\n",
       "      <td>5.906977</td>\n",
       "    </tr>\n",
       "  </tbody>\n",
       "</table>\n",
       "<p>2424 rows × 6 columns</p>\n",
       "</div>"
      ],
      "text/plain": [
       "                                                 textos  labels  conteo  max  \\\n",
       "0     \"Aprendizaje\" y \"educación\" se consideran sinó...       4     352   14   \n",
       "1     Para los niños más pequeños (bebés y niños peq...       4     516   16   \n",
       "2     Además, la formación de especialistas en medic...       3     659   15   \n",
       "3     En los países de la OCDE se tiende a pasar de ...       4     693   18   \n",
       "4     Este grupo se centró en las personas que padec...       3     608   14   \n",
       "...                                                 ...     ...     ...  ...   \n",
       "2419  La tutoría de carrera está diseñada para apoya...       4     741   16   \n",
       "2420  Fuente: Ministerio de Educación. Las Tasas Int...       4     541   15   \n",
       "2421  Y desde 2010, el PNUD ha sido pionero en la pu...       1     352   12   \n",
       "2422  Sin embargo, estas fallas del mercado implican...       3     754   15   \n",
       "2423  Aunque existen programas para convertirse espe...       4     593   25   \n",
       "\n",
       "      min      mean  \n",
       "0       1  6.354167  \n",
       "1       1  6.180556  \n",
       "2       1  6.096774  \n",
       "3       1  5.366972  \n",
       "4       0  5.410526  \n",
       "...   ...       ...  \n",
       "2419    1  5.566372  \n",
       "2420    1  5.376471  \n",
       "2421    1  4.515625  \n",
       "2422    1  4.852713  \n",
       "2423    1  5.906977  \n",
       "\n",
       "[2424 rows x 6 columns]"
      ]
     },
     "execution_count": 8,
     "metadata": {},
     "output_type": "execute_result"
    }
   ],
   "source": [
    "data_copy = data.copy()\n",
    "data_copy['conteo'] = [len(x) for x in data_copy['textos']]\n",
    "data_copy['max'] = [[max([len(x) for x in i.split(' ')])][0] for i in data_copy['textos']]\n",
    "data_copy['min'] = [[min([len(x) for x in i.split(' ')])][0] for i in data_copy['textos']]\n",
    "data_copy['mean'] = [np.mean([len(x) for x in i.split(' ')]) for i in data_copy['textos']]\n",
    "\n",
    "data_copy\n"
   ]
  },
  {
   "cell_type": "markdown",
   "id": "c263f8b2",
   "metadata": {},
   "source": [
    "## Procesamiento de los Datos\n",
    "#### Limpieza de los datos"
   ]
  },
  {
   "cell_type": "markdown",
   "id": "f3c09bdc",
   "metadata": {},
   "source": [
    "En la parte de limpieza de los datos vamos a dejar todo en minusculas, eliminar caracteres especiales, puntuación, nonASCII characters y stopwords  "
   ]
  },
  {
   "cell_type": "code",
   "execution_count": 9,
   "id": "e22fce2e",
   "metadata": {},
   "outputs": [],
   "source": [
    "def limpieza(texto: str) -> str:\n",
    "    texto = str(texto).lower()                    # minúsculas\n",
    "    texto = ''.join(c for c in unicodedata.normalize('NFD', texto)\n",
    "                    if unicodedata.category(c) != 'Mn')   # quitar non-ASCII/tildes\n",
    "    texto = re.sub(r'[^a-z0-9\\s]', ' ', texto)    # eliminar puntuación y caracteres especiales\n",
    "    texto = re.sub(r'\\s+', ' ', texto).strip()    # colapsar espacios\n",
    "    return texto"
   ]
  },
  {
   "cell_type": "markdown",
   "id": "2a681da9",
   "metadata": {},
   "source": [
    "#### Tokenización \n",
    "Vamos a dividir en frases u oraciones en palabras Con el fin de desglozar las palabras correctamente para el posterior análisis. Como en español no hay contractions no aplicamos esa función. Sin embargo, tenemos en cuenta también las palabras compuestas como niños(as) estas las separamos en tokens diferentes, ademas podemos eliminar comillas, parentesis y guiones. "
   ]
  },
  {
   "cell_type": "code",
   "execution_count": 10,
   "id": "90a7586f",
   "metadata": {},
   "outputs": [],
   "source": [
    "def tokenizacion(texto: str):\n",
    "    tokens = re.findall(r\"[a-zA-ZáéíóúÁÉÍÓÚñÑüÜ0-9]+\", texto)\n",
    "    return tokens"
   ]
  },
  {
   "cell_type": "markdown",
   "id": "c9115c43",
   "metadata": {},
   "source": [
    "#### Normalizacion \n",
    "Aqui eliminamos las stopwords. \n",
    "- Se utilizo chat gpt para que generara la lista con las spanish stopwords que queremos eliminar, ya que generalmente las librerias estan en ingles y no reconocen las stopwords en español "
   ]
  },
  {
   "cell_type": "code",
   "execution_count": 11,
   "id": "b208d0ae",
   "metadata": {},
   "outputs": [],
   "source": [
    "spanish_stopwords = [\n",
    "    'a', 'acá', 'ahí', 'ajena', 'ajenas', 'ajeno', 'ajenos', 'al', 'algo', 'algún', \n",
    "    'alguna', 'algunas', 'alguno', 'algunos', 'allá', 'allí', 'ambos', 'ante', \n",
    "    'antes', 'aquel', 'aquella', 'aquellas', 'aquello', 'aquellos', 'aquí', \n",
    "    'arriba', 'así', 'atrás', 'aun', 'aunque', 'bajo', 'bastante', 'bien', 'cabe', \n",
    "    'cada', 'casi', 'cierta', 'ciertas', 'cierto', 'ciertos', 'como', 'con', \n",
    "    'conmigo', 'contigo', 'contra', 'cual', 'cuales', 'cualquier', 'cualquiera', \n",
    "    'cualquieras', 'cuan', 'cuando', 'cuanta', 'cuantas', 'cuanto', 'cuantos', \n",
    "    'de', 'dejar', 'del', 'demás', 'demasiada', 'demasiadas', 'demasiado', \n",
    "    'demasiados', 'dentro', 'desde', 'donde', 'dos', 'el', 'él', 'ella', 'ellas', \n",
    "    'ello', 'ellos', 'empleáis', 'emplean', 'emplear', 'empleas', 'empleo', 'en', \n",
    "    'encima', 'entonces', 'entre', 'era', 'eramos', 'eran', 'eras', 'eres', 'es', \n",
    "    'esa', 'esas', 'ese', 'eso', 'esos', 'esta', 'estaba', 'estado', 'estáis', \n",
    "    'estamos', 'estan', 'estar', 'estas', 'este', 'esto', 'estos', 'etc', 'ha', \n",
    "    'hace', 'haces', 'hacéis', 'hacemos', 'hacen', 'hacer', 'hacia', 'hago', \n",
    "    'hasta', 'incluso', 'intenta', 'intentáis', 'intentamos', 'intentan', \n",
    "    'intentar', 'intentas', 'intento', 'ir', 'jamás', 'junto', 'juntos', 'la', \n",
    "    'lo', 'los', 'las', 'largo', 'más', 'me', 'menos', 'mi', 'mía', 'mías', 'mío', \n",
    "    'míos', 'mis', 'misma', 'mismas', 'mismo', 'mismos', 'modo', 'mucha', 'muchas', \n",
    "    'muchísima', 'muchísimas', 'muchísimo', 'muchísimos', 'mucho', 'muchos', 'muy', \n",
    "    'nada', 'ni', 'ninguna', 'ningunas', 'ninguno', 'ningunos', 'no', 'nos', \n",
    "    'nosotras', 'nosotros', 'nuestra', 'nuestras', 'nuestro', 'nuestros', 'nunca', \n",
    "    'os', 'otra', 'otras', 'otro', 'otros', 'para', 'parecer', 'pero', 'poca', \n",
    "    'pocas', 'poco', 'pocos', 'podeis', 'podemos', 'poder', 'podría', 'podríais', \n",
    "    'podríamos', 'podrían', 'por', 'porque', 'primero', 'puede', 'pueden', 'puedo', \n",
    "    'pues', 'que', 'querer', 'quien', 'quienes', 'quienesquiera', 'quienquiera', \n",
    "    'quizá', 'quizás', 'sabe', 'sabes', 'saben', 'sabéis', 'sabemos', 'saber', \n",
    "    'se', 'según', 'ser', 'si', 'sí', 'siendo', 'sin', 'sino', 'so', 'sobre', \n",
    "    'sois', 'solamente', 'solo', 'somos', 'soy', 'su', 'sus', 'suya', 'suyas', \n",
    "    'suyo', 'suyos', 'tal', 'tales', 'también', 'tampoco', 'tan', 'tanta', \n",
    "    'tantas', 'tanto', 'tantos', 'te', 'teneis', 'tenemos', 'tener', 'tengo', \n",
    "    'ti', 'tiempo', 'tiene', 'tienen', 'toda', 'todas', 'todo', 'todos', 'tras', \n",
    "    'tu', 'tus', 'tuya', 'tuyas', 'tuyo', 'tuyos', 'un', 'una', 'unas', 'uno', \n",
    "    'unos', 'usa', 'usáis', 'usamos', 'usan', 'usar', 'usas', 'uso', 'usted', \n",
    "    'ustedes', 'va', 'vais', 'valor', 'vamos', 'van', 'varias', 'varios', 'vaya', \n",
    "    'verdad', 'verdadera', 'vosotras', 'vosotros', 'voy', 'vuestra', 'vuestras', \n",
    "    'vuestro', 'vuestros', 'y', 'ya'\n",
    "]\n",
    "def normalizacion(tokens):\n",
    "    return [t for t in tokens if t not in spanish_stopwords]"
   ]
  },
  {
   "cell_type": "markdown",
   "id": "6417b950",
   "metadata": {},
   "source": [
    "Juntar todo lo que hicimos, en una copia de nuestros datos "
   ]
  },
  {
   "cell_type": "code",
   "execution_count": 12,
   "id": "5664a7f3",
   "metadata": {},
   "outputs": [
    {
     "data": {
      "text/html": [
       "<div>\n",
       "<style scoped>\n",
       "    .dataframe tbody tr th:only-of-type {\n",
       "        vertical-align: middle;\n",
       "    }\n",
       "\n",
       "    .dataframe tbody tr th {\n",
       "        vertical-align: top;\n",
       "    }\n",
       "\n",
       "    .dataframe thead th {\n",
       "        text-align: right;\n",
       "    }\n",
       "</style>\n",
       "<table border=\"1\" class=\"dataframe\">\n",
       "  <thead>\n",
       "    <tr style=\"text-align: right;\">\n",
       "      <th></th>\n",
       "      <th>textos</th>\n",
       "      <th>labels</th>\n",
       "      <th>textos_clean</th>\n",
       "      <th>tokens</th>\n",
       "      <th>tokens_norm</th>\n",
       "    </tr>\n",
       "  </thead>\n",
       "  <tbody>\n",
       "    <tr>\n",
       "      <th>0</th>\n",
       "      <td>\"Aprendizaje\" y \"educación\" se consideran sinó...</td>\n",
       "      <td>4</td>\n",
       "      <td>aprendizaje y educacion se consideran sinonimo...</td>\n",
       "      <td>[aprendizaje, y, educacion, se, consideran, si...</td>\n",
       "      <td>[aprendizaje, educacion, consideran, sinonimos...</td>\n",
       "    </tr>\n",
       "    <tr>\n",
       "      <th>1</th>\n",
       "      <td>Para los niños más pequeños (bebés y niños peq...</td>\n",
       "      <td>4</td>\n",
       "      <td>para los ninos mas pequenos bebes y ninos pequ...</td>\n",
       "      <td>[para, los, ninos, mas, pequenos, bebes, y, ni...</td>\n",
       "      <td>[ninos, mas, pequenos, bebes, ninos, pequenos,...</td>\n",
       "    </tr>\n",
       "    <tr>\n",
       "      <th>2</th>\n",
       "      <td>Además, la formación de especialistas en medic...</td>\n",
       "      <td>3</td>\n",
       "      <td>ademas la formacion de especialistas en medici...</td>\n",
       "      <td>[ademas, la, formacion, de, especialistas, en,...</td>\n",
       "      <td>[ademas, formacion, especialistas, medicina, g...</td>\n",
       "    </tr>\n",
       "    <tr>\n",
       "      <th>3</th>\n",
       "      <td>En los países de la OCDE se tiende a pasar de ...</td>\n",
       "      <td>4</td>\n",
       "      <td>en los paises de la ocde se tiende a pasar de ...</td>\n",
       "      <td>[en, los, paises, de, la, ocde, se, tiende, a,...</td>\n",
       "      <td>[paises, ocde, tiende, pasar, cursos, obligato...</td>\n",
       "    </tr>\n",
       "    <tr>\n",
       "      <th>4</th>\n",
       "      <td>Este grupo se centró en las personas que padec...</td>\n",
       "      <td>3</td>\n",
       "      <td>este grupo se centro en las personas que padec...</td>\n",
       "      <td>[este, grupo, se, centro, en, las, personas, q...</td>\n",
       "      <td>[grupo, centro, personas, padecen, trastornos,...</td>\n",
       "    </tr>\n",
       "    <tr>\n",
       "      <th>...</th>\n",
       "      <td>...</td>\n",
       "      <td>...</td>\n",
       "      <td>...</td>\n",
       "      <td>...</td>\n",
       "      <td>...</td>\n",
       "    </tr>\n",
       "    <tr>\n",
       "      <th>2419</th>\n",
       "      <td>La tutoría de carrera está diseñada para apoya...</td>\n",
       "      <td>4</td>\n",
       "      <td>la tutoria de carrera esta disenada para apoya...</td>\n",
       "      <td>[la, tutoria, de, carrera, esta, disenada, par...</td>\n",
       "      <td>[tutoria, carrera, disenada, apoyar, estudiant...</td>\n",
       "    </tr>\n",
       "    <tr>\n",
       "      <th>2420</th>\n",
       "      <td>Fuente: Ministerio de Educación. Las Tasas Int...</td>\n",
       "      <td>4</td>\n",
       "      <td>fuente ministerio de educacion las tasas inter...</td>\n",
       "      <td>[fuente, ministerio, de, educacion, las, tasas...</td>\n",
       "      <td>[fuente, ministerio, educacion, tasas, interna...</td>\n",
       "    </tr>\n",
       "    <tr>\n",
       "      <th>2421</th>\n",
       "      <td>Y desde 2010, el PNUD ha sido pionero en la pu...</td>\n",
       "      <td>1</td>\n",
       "      <td>y desde 2010 el pnud ha sido pionero en la pue...</td>\n",
       "      <td>[y, desde, 2010, el, pnud, ha, sido, pionero, ...</td>\n",
       "      <td>[2010, pnud, sido, pionero, puesta, marcha, pr...</td>\n",
       "    </tr>\n",
       "    <tr>\n",
       "      <th>2422</th>\n",
       "      <td>Sin embargo, estas fallas del mercado implican...</td>\n",
       "      <td>3</td>\n",
       "      <td>sin embargo estas fallas del mercado implican ...</td>\n",
       "      <td>[sin, embargo, estas, fallas, del, mercado, im...</td>\n",
       "      <td>[embargo, fallas, mercado, implican, competenc...</td>\n",
       "    </tr>\n",
       "    <tr>\n",
       "      <th>2423</th>\n",
       "      <td>Aunque existen programas para convertirse espe...</td>\n",
       "      <td>4</td>\n",
       "      <td>aunque existen programas para convertirse espe...</td>\n",
       "      <td>[aunque, existen, programas, para, convertirse...</td>\n",
       "      <td>[existen, programas, convertirse, especificame...</td>\n",
       "    </tr>\n",
       "  </tbody>\n",
       "</table>\n",
       "<p>2424 rows × 5 columns</p>\n",
       "</div>"
      ],
      "text/plain": [
       "                                                 textos  labels  \\\n",
       "0     \"Aprendizaje\" y \"educación\" se consideran sinó...       4   \n",
       "1     Para los niños más pequeños (bebés y niños peq...       4   \n",
       "2     Además, la formación de especialistas en medic...       3   \n",
       "3     En los países de la OCDE se tiende a pasar de ...       4   \n",
       "4     Este grupo se centró en las personas que padec...       3   \n",
       "...                                                 ...     ...   \n",
       "2419  La tutoría de carrera está diseñada para apoya...       4   \n",
       "2420  Fuente: Ministerio de Educación. Las Tasas Int...       4   \n",
       "2421  Y desde 2010, el PNUD ha sido pionero en la pu...       1   \n",
       "2422  Sin embargo, estas fallas del mercado implican...       3   \n",
       "2423  Aunque existen programas para convertirse espe...       4   \n",
       "\n",
       "                                           textos_clean  \\\n",
       "0     aprendizaje y educacion se consideran sinonimo...   \n",
       "1     para los ninos mas pequenos bebes y ninos pequ...   \n",
       "2     ademas la formacion de especialistas en medici...   \n",
       "3     en los paises de la ocde se tiende a pasar de ...   \n",
       "4     este grupo se centro en las personas que padec...   \n",
       "...                                                 ...   \n",
       "2419  la tutoria de carrera esta disenada para apoya...   \n",
       "2420  fuente ministerio de educacion las tasas inter...   \n",
       "2421  y desde 2010 el pnud ha sido pionero en la pue...   \n",
       "2422  sin embargo estas fallas del mercado implican ...   \n",
       "2423  aunque existen programas para convertirse espe...   \n",
       "\n",
       "                                                 tokens  \\\n",
       "0     [aprendizaje, y, educacion, se, consideran, si...   \n",
       "1     [para, los, ninos, mas, pequenos, bebes, y, ni...   \n",
       "2     [ademas, la, formacion, de, especialistas, en,...   \n",
       "3     [en, los, paises, de, la, ocde, se, tiende, a,...   \n",
       "4     [este, grupo, se, centro, en, las, personas, q...   \n",
       "...                                                 ...   \n",
       "2419  [la, tutoria, de, carrera, esta, disenada, par...   \n",
       "2420  [fuente, ministerio, de, educacion, las, tasas...   \n",
       "2421  [y, desde, 2010, el, pnud, ha, sido, pionero, ...   \n",
       "2422  [sin, embargo, estas, fallas, del, mercado, im...   \n",
       "2423  [aunque, existen, programas, para, convertirse...   \n",
       "\n",
       "                                            tokens_norm  \n",
       "0     [aprendizaje, educacion, consideran, sinonimos...  \n",
       "1     [ninos, mas, pequenos, bebes, ninos, pequenos,...  \n",
       "2     [ademas, formacion, especialistas, medicina, g...  \n",
       "3     [paises, ocde, tiende, pasar, cursos, obligato...  \n",
       "4     [grupo, centro, personas, padecen, trastornos,...  \n",
       "...                                                 ...  \n",
       "2419  [tutoria, carrera, disenada, apoyar, estudiant...  \n",
       "2420  [fuente, ministerio, educacion, tasas, interna...  \n",
       "2421  [2010, pnud, sido, pionero, puesta, marcha, pr...  \n",
       "2422  [embargo, fallas, mercado, implican, competenc...  \n",
       "2423  [existen, programas, convertirse, especificame...  \n",
       "\n",
       "[2424 rows x 5 columns]"
      ]
     },
     "execution_count": 12,
     "metadata": {},
     "output_type": "execute_result"
    }
   ],
   "source": [
    "data_copy = data.copy()\n",
    "\n",
    "# Aplicar las funciones de preprocesamiento\n",
    "data_copy['textos_clean'] = data_copy['textos'].apply(limpieza)\n",
    "data_copy['tokens'] = data_copy['textos_clean'].apply(tokenizacion)\n",
    "data_copy['tokens_norm'] = data_copy['tokens'].apply(normalizacion)\n",
    "\n",
    "\n",
    "# print(data_copy[['tokens_norm','labels']].head(3))\n",
    "data_copy"
   ]
  },
  {
   "cell_type": "code",
   "execution_count": 13,
   "id": "ccd6ef62",
   "metadata": {},
   "outputs": [],
   "source": [
    "# exportar a excel para saber como nos esta quedando\n",
    "# data_copy[['textos','tokens_norm']].to_excel(\"tokens_norm.xlsx\", index=False)"
   ]
  },
  {
   "cell_type": "markdown",
   "id": "79beab82",
   "metadata": {},
   "source": [
    "#### Selección de campos y vectorizacion \n",
    "Esto nos permite traducir nuestras palabras ya tokenizadas en numeros ya que los modelos que vamos a usar no nos funcionan con palabras sino con numeros. \n",
    "Basicamente lo que vamos a hacer es: \n",
    "1. Selección de campos: separar que columna es la variable predictora y cual es la variable objetivo (lo organiza para que sklearn lo entienda)\n",
    "2. Vectorización: convierte cada texto en un vector indicando cuántas veces aparece cada palabra.\n",
    "3. TfidfVectorizer: pondera cada palabra por su importancia en el documento y en el corpus. penaliza palabras que no nos esten aportantando tanto y favore a las que si. \n",
    "4. Construcción de la matriz: construimos una matriz de documentos vs vocabulario, \n",
    "- Cada fila = un documento (texto del dataset).\n",
    "- Cada columna = una palabra del vocabulario.\n",
    "- El valor = la frecuencia o el peso TF-IDF de esa palabra en ese documento.\n",
    "\n",
    "Entonces, esto va a traducir el texto en números para que los modelos puedan trabajar. Además, esta matriz sirve para identificar palabras relevantes en cada clase, lo cual necesitamos para justificar cómo los textos se relacionan con los ODS."
   ]
  },
  {
   "cell_type": "markdown",
   "id": "2d22f88a",
   "metadata": {},
   "source": [
    "Hacemos la selección de campos"
   ]
  },
  {
   "cell_type": "code",
   "execution_count": 14,
   "id": "c50d9e13",
   "metadata": {},
   "outputs": [],
   "source": [
    "data_ready = data_copy.copy()\n",
    "\n",
    "data_ready['words'] = data_ready['tokens_norm'].apply(lambda xs: ' '.join(map(str, xs)))\n",
    "\n",
    "X_data = data_ready['words']\n",
    "y_data = data_ready['labels'].astype(int)\n",
    "\n",
    "#print(X_data.head(2))\n",
    "#print(y_data.value_counts().sort_index())"
   ]
  },
  {
   "cell_type": "markdown",
   "id": "3639b54d",
   "metadata": {},
   "source": [
    "Vectorización"
   ]
  },
  {
   "cell_type": "markdown",
   "id": "adee90d0",
   "metadata": {},
   "source": [
    "Presencia binaria (Bag-of-Words binario): No importa cuántas veces aparezca una palabra en el texto. Solo se indica si la palabra está presente (1) o ausente (0)."
   ]
  },
  {
   "cell_type": "code",
   "execution_count": 15,
   "id": "98ff2d4e",
   "metadata": {},
   "outputs": [],
   "source": [
    "dummy = CountVectorizer(binary=True)\n",
    "X_dummy = dummy.fit_transform(X_data)\n",
    "\n",
    "# print(\"BoW binario:\", X_dummy.shape)"
   ]
  },
  {
   "cell_type": "markdown",
   "id": "12e02537",
   "metadata": {},
   "source": [
    "Conteo (Bag-of-Words con frecuencias): Cada palabra del vocabulario se representa con la cantidad de veces que aparece en el documento."
   ]
  },
  {
   "cell_type": "code",
   "execution_count": 16,
   "id": "f00fec6b",
   "metadata": {},
   "outputs": [],
   "source": [
    "count = CountVectorizer()\n",
    "X_count = count.fit_transform(X_data)\n",
    "\n",
    "#print(\"BoW conteo:\", X_count.shape)"
   ]
  },
  {
   "cell_type": "markdown",
   "id": "d0d65825",
   "metadata": {},
   "source": [
    "TF–IDF: toma lo anterior y le asigna un peso para la matriz"
   ]
  },
  {
   "cell_type": "code",
   "execution_count": 17,
   "id": "7fb45c36",
   "metadata": {},
   "outputs": [],
   "source": [
    "tfidf = TfidfVectorizer(\n",
    "    min_df=5,        # ignora términos muy raros (<5 documentos)\n",
    "    max_df=0.9,      # ignora términos demasiado comunes (>90% de documentos)\n",
    "    lowercase=False,      # ya está en minúsculas\n",
    "    strip_accents=None, # ya quitaste tildes\n",
    "    sublinear_tf=True,  #textos largos no dominen\n",
    "    ngram_range=(1,1) # luego probamos (1,2) para bigramas como \"salud publica\"\n",
    ")\n",
    "X_tfidf = tfidf.fit_transform(X_data)\n",
    "\n",
    "#print(\"TF-IDF:\", X_tfidf.shape)"
   ]
  },
  {
   "cell_type": "markdown",
   "id": "b50cbafe",
   "metadata": {},
   "source": [
    "Dvidir en data train y data test "
   ]
  },
  {
   "cell_type": "code",
   "execution_count": 18,
   "id": "6a95b813",
   "metadata": {},
   "outputs": [
    {
     "name": "stdout",
     "output_type": "stream",
     "text": [
      "Distribución train: [0.         0.20835482 0.         0.36874678 0.4228984 ]\n",
      "Distribución test : [0.         0.20824742 0.         0.36907216 0.42268041]\n"
     ]
    }
   ],
   "source": [
    "X_train, X_test, y_train, y_test = train_test_split(\n",
    "    X_data, y_data, test_size=0.2, stratify=y_data, random_state=42\n",
    ")\n",
    "\n",
    "# Ajustar TF-IDF solo con train\n",
    "tfidf = TfidfVectorizer(min_df=5, max_df=0.9, ngram_range=(1,1))\n",
    "Xtr = tfidf.fit_transform(X_train)\n",
    "Xte = tfidf.transform(X_test)\n",
    "\n",
    "#print(Xtr.shape, Xte.shape)\n",
    "\n",
    "print(\"Distribución train:\", np.bincount(y_train)/len(y_train))\n",
    "print(\"Distribución test :\", np.bincount(y_test)/len(y_test))"
   ]
  },
  {
   "cell_type": "markdown",
   "id": "69f4a861",
   "metadata": {},
   "source": [
    "Lo anterior nos dice que \n",
    "el 20% de los textos son de la clase 1 - fin de la pobreza \n",
    "el 36% de los textos son de la clase 3 - salud y bienestar\n",
    "el 42% de los textos son de la clase 4 - educación y calidad \n",
    "\n",
    "lo mismo que nos estaba dando al inicio, lo cual indica que nuestro modelo si logro hacer el split correctamente, asegurando que verá ejemplos representativos de todas las clases en train y test."
   ]
  },
  {
   "cell_type": "markdown",
   "id": "a951c4b5",
   "metadata": {},
   "source": [
    "# 3. Modelado y evaulación"
   ]
  },
  {
   "cell_type": "markdown",
   "id": "1725f9c2",
   "metadata": {},
   "source": [
    "## Naive Bayes - Silvana Echeverry\n",
    "\n",
    "Como primer algoritmo vamos a utilizar Naive Bayes. Este es muy sencillo y rapido ya que se ajusta a matrices de tamaños muy grandes como la que construimos en TF-IDF. Además, nos da el indicador probabilistico ya que nos ayuda a saber cual clase es más probable en el texto. Es un algoritmo que se usa generalmente en clasificaciones de textos, ya que tiene un baseline clásico (un modelo inicial, sencillo y fácil de implementar, que sirve como punto de comparación para evaluar si los modelos más complejos realmente aportan mejoras.). Nos ayuda a entender y comparar ventajas y desventajas. \n",
    "\n",
    "##### Tipos de Naive Bayes en SKLEARN \n",
    "1. Gaussian Naive Bayes: asume que los datos (features) siguen una distribución gaussiana entonces lo hace util para datos continuos, no para textos\n",
    "2. Multinomial Naive Bayes: supone que los datos son conteos o frecuencias, lo cual lo hace ideal para Bag-of-Words y TF-IDF\n",
    "3. Complement Naive Bayes: esta diseñado para datos desbalanceados, \n",
    "4. Bernoulli Naive Bayes: Usa variables binarias (0/1 si una palabra aparece o no), util con BoW binario, no tanto con TF-IDF.\n",
    "5. Categorical Naive Bayes: Diseñado para features categóricas discretas, No sirve para TF-IDF ni BoW porque no sirve para textos\n",
    "6. Out-of-core naive Bayes model fitting: Variante de MultinomialNB o BernoulliNB para entrenar en datasets enormes que no caben en memoria.\n",
    "\n",
    "A partir de estos tipos el mejor que nos funcionaria en este caso es Multinomial Naive Bayes y Complement Naive Bayes. "
   ]
  },
  {
   "cell_type": "markdown",
   "id": "c1b226a2",
   "metadata": {},
   "source": [
    "#### Multinomial Naive Bayes"
   ]
  },
  {
   "cell_type": "markdown",
   "id": "aaebdc16",
   "metadata": {},
   "source": [
    "Aca quiero verificar con cual alpha es mejor. \n",
    "\n",
    "¿Qué es un alpha? el alpha controla cuánto “rellenamos” las probabilidades para evitar que sean cero cuando una palabra no aparece en los datos de entrenamiento de cierta clase. Sin suavizar la probabilidad  haría que cualquier texto con esa palabra jamás se clasifique. \n",
    "\n",
    "Lo que estoy haciendo es entrenar varios modelos con diferentes valores de alpha y medir el F1-macro en el conjunto de datos de prueba.\n",
    "De esa forma puedes elegir el alpha que dé mejor rendimiento en tu dataset, en lugar de aceptar ciegamente el valor por defecto"
   ]
  },
  {
   "cell_type": "code",
   "execution_count": 19,
   "id": "f1231fc9",
   "metadata": {},
   "outputs": [
    {
     "name": "stdout",
     "output_type": "stream",
     "text": [
      "alpha=0.1  -> F1-macro=0.9538\n",
      "alpha=0.3  -> F1-macro=0.9555\n",
      "alpha=0.5  -> F1-macro=0.9555\n",
      "alpha=1.0  -> F1-macro=0.9429\n",
      "alpha=2.0  -> F1-macro=0.9242\n",
      "\n",
      "Mejor alpha: 0.3 (F1-macro=0.9555)\n"
     ]
    }
   ],
   "source": [
    "alphas = [0.1, 0.3, 0.5, 1.0, 2.0]\n",
    "scores = []\n",
    "\n",
    "for a in alphas:\n",
    "    m = MultinomialNB(alpha=a, fit_prior=True)\n",
    "    m.fit(Xtr, y_train)\n",
    "    pred = m.predict(Xte)\n",
    "    f1m = f1_score(y_test, pred, average='macro')\n",
    "    scores.append((a, f1m))\n",
    "    print(f\"alpha={a:<4} -> F1-macro={f1m:.4f}\")\n",
    "\n",
    "# Mejor alpha\n",
    "best_alpha, best_f1 = max(scores, key=lambda x: x[1])\n",
    "print(f\"\\nMejor alpha: {best_alpha} (F1-macro={best_f1:.4f})\")"
   ]
  },
  {
   "cell_type": "markdown",
   "id": "6db370c0",
   "metadata": {},
   "source": [
    "A partir de lo anterior, nos podemos dar cuenta que el mejor alpha es 0.3 y es el que usamos en nuestro modelo multinomial "
   ]
  },
  {
   "cell_type": "code",
   "execution_count": 20,
   "id": "56060a85",
   "metadata": {},
   "outputs": [
    {
     "name": "stdout",
     "output_type": "stream",
     "text": [
      "              precision    recall  f1-score   support\n",
      "\n",
      "           1      0.950     0.950     0.950       101\n",
      "           3      0.966     0.944     0.955       179\n",
      "           4      0.952     0.971     0.961       205\n",
      "\n",
      "    accuracy                          0.957       485\n",
      "   macro avg      0.956     0.955     0.956       485\n",
      "weighted avg      0.957     0.957     0.957       485\n",
      "\n",
      "F1-macro: 0.955549988798929\n",
      "Accuracy : 0.9567010309278351\n"
     ]
    },
    {
     "data": {
      "image/png": "[encoded data removed]",
      "text/plain": [
       "<Figure size 640x480 with 2 Axes>"
      ]
     },
     "metadata": {},
     "output_type": "display_data"
    }
   ],
   "source": [
    "# Instancia con valores por defecto\n",
    "mnb = MultinomialNB(alpha=0.3, fit_prior=True)\n",
    "\n",
    "# Entrenar con la matriz TF-IDF de train\n",
    "mnb.fit(Xtr, y_train)\n",
    "\n",
    "# Predecir en test\n",
    "y_pred_nb = mnb.predict(Xte)\n",
    "\n",
    "# Métricas\n",
    "print(classification_report(y_test, y_pred_nb, digits=3))\n",
    "print(\"F1-macro:\", f1_score(y_test, y_pred_nb, average='macro'))\n",
    "print(\"Accuracy :\", accuracy_score(y_test, y_pred_nb))\n",
    "\n",
    "# Matriz de confusión\n",
    "cm = confusion_matrix(y_test, y_pred_nb, labels=mnb.classes_)\n",
    "\n",
    "disp = ConfusionMatrixDisplay(confusion_matrix=cm, display_labels=mnb.classes_)\n",
    "disp.plot(cmap=\"Blues\", values_format=\"d\")  # valores como enteros\n",
    "plt.title(\"Matriz de confusión - MultinomialNB\")\n",
    "plt.show()"
   ]
  },
  {
   "cell_type": "markdown",
   "id": "6f99ffc0",
   "metadata": {},
   "source": []
  }
 ],
 "metadata": {
  "kernelspec": {
   "display_name": "Python 3",
   "language": "python",
   "name": "python3"
  },
  "language_info": {
   "codemirror_mode": {
    "name": "ipython",
    "version": 3
   },
   "file_extension": ".py",
   "mimetype": "text/x-python",
   "name": "python",
   "nbconvert_exporter": "python",
   "pygments_lexer": "ipython3",
   "version": "3.12.0"
  }
 },
 "nbformat": 4,
 "nbformat_minor": 5
}
